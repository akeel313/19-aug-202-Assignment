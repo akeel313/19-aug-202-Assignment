{
 "cells": [
  {
   "cell_type": "code",
   "execution_count": 2,
   "id": "85dd935c-51b3-43e3-8517-78af8818422c",
   "metadata": {},
   "outputs": [],
   "source": [
    "#1. Declare two variables, `x` and `y`, and assign them integer values. Swap the\n",
    "#values of these variables without using any temporary variable."
   ]
  },
  {
   "cell_type": "code",
   "execution_count": 5,
   "id": "0fbf04e4-299b-42fe-979c-750d22a54f6e",
   "metadata": {},
   "outputs": [],
   "source": [
    "x = 5\n",
    "y = 20"
   ]
  },
  {
   "cell_type": "code",
   "execution_count": 7,
   "id": "b97a6d0d-1b70-466e-aa20-358f08bbbb9d",
   "metadata": {},
   "outputs": [
    {
     "data": {
      "text/plain": [
       "(5, 20)"
      ]
     },
     "execution_count": 7,
     "metadata": {},
     "output_type": "execute_result"
    }
   ],
   "source": [
    "x, y"
   ]
  },
  {
   "cell_type": "code",
   "execution_count": 8,
   "id": "0f143910-0be9-41ec-82de-ecf05692a698",
   "metadata": {},
   "outputs": [],
   "source": [
    "x, y = y, x"
   ]
  },
  {
   "cell_type": "code",
   "execution_count": 9,
   "id": "d2d06c40-5cc2-444f-ae32-88f22f08f290",
   "metadata": {},
   "outputs": [
    {
     "data": {
      "text/plain": [
       "(20, 5)"
      ]
     },
     "execution_count": 9,
     "metadata": {},
     "output_type": "execute_result"
    }
   ],
   "source": [
    "x, y"
   ]
  },
  {
   "cell_type": "code",
   "execution_count": 13,
   "id": "bdf3150f-a27c-453d-adc5-cdfcb6803e00",
   "metadata": {},
   "outputs": [],
   "source": [
    "#2. Create a program that calculates the area of a rectangle. Take the length and\n",
    "#width as inputs from the user and store them in variables. Calculate and\n",
    "#display the area."
   ]
  },
  {
   "cell_type": "code",
   "execution_count": 2,
   "id": "d557c304-ad48-492a-b09f-06e0024c2be5",
   "metadata": {},
   "outputs": [
    {
     "name": "stdin",
     "output_type": "stream",
     "text": [
      "please enter length of rectangle 10\n"
     ]
    }
   ],
   "source": [
    "L= int(input('please enter length of rectangle'))"
   ]
  },
  {
   "cell_type": "code",
   "execution_count": 3,
   "id": "8086b5cf-bde0-4b2c-baf5-fc9cc264fa27",
   "metadata": {},
   "outputs": [
    {
     "name": "stdin",
     "output_type": "stream",
     "text": [
      "please enter the bredth of rectangle 20\n"
     ]
    }
   ],
   "source": [
    "B = int(input('please enter the bredth of rectangle'))"
   ]
  },
  {
   "cell_type": "code",
   "execution_count": 20,
   "id": "d52d7f35-21ce-4ddf-8f99-afb9d59afb10",
   "metadata": {},
   "outputs": [],
   "source": [
    "Area  = L * B"
   ]
  },
  {
   "cell_type": "code",
   "execution_count": 29,
   "id": "c3712a19-c2e2-457a-8f7c-48ef90a3dac4",
   "metadata": {},
   "outputs": [
    {
     "name": "stdout",
     "output_type": "stream",
     "text": [
      "Area of rectangle is : 200\n"
     ]
    }
   ],
   "source": [
    "print(\"Area of rectangle is :\", Area)"
   ]
  },
  {
   "cell_type": "code",
   "execution_count": 23,
   "id": "cc026582-31e7-4b06-bfb9-d69a87f974bc",
   "metadata": {},
   "outputs": [],
   "source": [
    "#3. Write a Python program that converts temperatures from Celsius to\n",
    "#Fahrenheit. Take the temperature in Celsius as input, store it in a variable,\n",
    "#convert it to Fahrenheit, and display the result."
   ]
  },
  {
   "cell_type": "code",
   "execution_count": 32,
   "id": "f5429e68-d9f5-4193-8f4c-60a0a5fcaa6e",
   "metadata": {},
   "outputs": [
    {
     "name": "stdin",
     "output_type": "stream",
     "text": [
      "please enter temperature in celsius 13.8\n"
     ]
    }
   ],
   "source": [
    "#used float type to consider decimal numbers\n",
    "F = float(input(\"please enter temperature in celsius\"))"
   ]
  },
  {
   "cell_type": "code",
   "execution_count": 33,
   "id": "a9f8b466-495f-44cd-ab54-f5b171c177e2",
   "metadata": {},
   "outputs": [],
   "source": [
    "FT = F*33.8"
   ]
  },
  {
   "cell_type": "code",
   "execution_count": 34,
   "id": "ca25c85f-eb73-4cfc-bed6-de2f22407cee",
   "metadata": {},
   "outputs": [
    {
     "name": "stdout",
     "output_type": "stream",
     "text": [
      "Temperature in Fahrenheit : 466.44\n"
     ]
    }
   ],
   "source": [
    "print(\"Temperature in Fahrenheit :\", FT)"
   ]
  },
  {
   "cell_type": "code",
   "execution_count": 35,
   "id": "3212d1bf-aa00-4cca-9388-07d4bc5cde7b",
   "metadata": {},
   "outputs": [],
   "source": [
    "#1.Write a Python program that takes a string as input and prints the length of  \n",
    "#the string."
   ]
  },
  {
   "cell_type": "code",
   "execution_count": 36,
   "id": "471fffea-cdec-4208-b8f5-f80f0299c50d",
   "metadata": {},
   "outputs": [
    {
     "name": "stdin",
     "output_type": "stream",
     "text": [
      "enter a string sudh sir\n"
     ]
    }
   ],
   "source": [
    "A = str(input(\"enter a string\"))"
   ]
  },
  {
   "cell_type": "code",
   "execution_count": 39,
   "id": "f328a12e-3ad8-4843-a7c9-2e54fd7317d1",
   "metadata": {},
   "outputs": [],
   "source": [
    "L = len(A)"
   ]
  },
  {
   "cell_type": "code",
   "execution_count": 41,
   "id": "1e20341c-d083-4bde-86ff-0d342e00e123",
   "metadata": {},
   "outputs": [
    {
     "name": "stdout",
     "output_type": "stream",
     "text": [
      "length of above string is: 8\n"
     ]
    }
   ],
   "source": [
    "print(\"length of above string is:\", L)"
   ]
  },
  {
   "cell_type": "code",
   "execution_count": 54,
   "id": "e82bd8c1-a1c6-4083-8952-0de861f977bd",
   "metadata": {},
   "outputs": [],
   "source": [
    "#2. Create a program that takes a sentence from the user and counts the number\n",
    "#of vowels (a, e, i, o, u) in the string.\n",
    "\n",
    "\n",
    "\n",
    "#little difficult to understand "
   ]
  },
  {
   "cell_type": "code",
   "execution_count": 10,
   "id": "c8bbd1e3-cb53-4f93-baa0-6bb31befdf8b",
   "metadata": {},
   "outputs": [
    {
     "name": "stdin",
     "output_type": "stream",
     "text": [
      "enter a sentance of your choice My name is suzie that suzie with the z\n"
     ]
    }
   ],
   "source": [
    "S1 = str(input(\"enter a sentance of your choice\"))"
   ]
  },
  {
   "cell_type": "code",
   "execution_count": 11,
   "id": "260c8fe9-1a91-41a8-a509-be0ccff4536b",
   "metadata": {},
   "outputs": [
    {
     "data": {
      "text/plain": [
       "'My name is suzie that suzie with the z'"
      ]
     },
     "execution_count": 11,
     "metadata": {},
     "output_type": "execute_result"
    }
   ],
   "source": [
    "S1\n"
   ]
  },
  {
   "cell_type": "code",
   "execution_count": 23,
   "id": "a4591aba-6a61-41b8-bf9c-e15a211c74fc",
   "metadata": {},
   "outputs": [],
   "source": [
    "L1 = len(S1)"
   ]
  },
  {
   "cell_type": "code",
   "execution_count": 24,
   "id": "a62eb0de-b966-47ad-93f2-ce9769f13df7",
   "metadata": {},
   "outputs": [
    {
     "data": {
      "text/plain": [
       "38"
      ]
     },
     "execution_count": 24,
     "metadata": {},
     "output_type": "execute_result"
    }
   ],
   "source": [
    "L1"
   ]
  },
  {
   "cell_type": "code",
   "execution_count": 25,
   "id": "2ad4ab6f-9f37-44db-a536-6e014a6abbab",
   "metadata": {},
   "outputs": [],
   "source": [
    "count = 0\n",
    "i = 0"
   ]
  },
  {
   "cell_type": "code",
   "execution_count": 26,
   "id": "ccfe6ffc-f254-4831-8045-565755d0817b",
   "metadata": {},
   "outputs": [],
   "source": [
    "for i in range(len(S1)):\n",
    "    if (\n",
    "        (S1[i] == \"a\")\n",
    "        or (S1[i] == \"e\")\n",
    "        or (S1[i] == \"i\")\n",
    "        or (S1[i] == \"o\")\n",
    "        or (S1[i] == \"u\")\n",
    "    ):\n",
    "        count += 1"
   ]
  },
  {
   "cell_type": "code",
   "execution_count": 27,
   "id": "0dfd14d7-b6c1-451d-8871-bb51c6e55dcc",
   "metadata": {},
   "outputs": [
    {
     "data": {
      "text/plain": [
       "12"
      ]
     },
     "execution_count": 27,
     "metadata": {},
     "output_type": "execute_result"
    }
   ],
   "source": [
    "count"
   ]
  },
  {
   "cell_type": "code",
   "execution_count": null,
   "id": "4ee1c875-578e-4832-8d1b-d5d215a349e8",
   "metadata": {},
   "outputs": [],
   "source": [
    "#3. Given a string, reverse the order of characters using string slicing and print the reversed string"
   ]
  },
  {
   "cell_type": "code",
   "execution_count": 28,
   "id": "2b789d53-0b40-4493-a73d-cb7bdd6c227a",
   "metadata": {},
   "outputs": [
    {
     "name": "stdin",
     "output_type": "stream",
     "text": [
      "enter a sentance of your choice Hello Pwskills\n"
     ]
    }
   ],
   "source": [
    "G = str(input(\"enter a sentance of your choice\"))"
   ]
  },
  {
   "cell_type": "code",
   "execution_count": 29,
   "id": "1aa7cee7-15b5-4c5d-9b16-c6739a473ceb",
   "metadata": {},
   "outputs": [
    {
     "data": {
      "text/plain": [
       "'sllikswP olleH'"
      ]
     },
     "execution_count": 29,
     "metadata": {},
     "output_type": "execute_result"
    }
   ],
   "source": [
    "G[::-1]"
   ]
  },
  {
   "cell_type": "code",
   "execution_count": null,
   "id": "663be76c-7031-4527-9f7b-a570cd31a3a4",
   "metadata": {},
   "outputs": [],
   "source": [
    "#4. Write a program that takes a string as input and checks if it is a palindrome   \n",
    "#(reads the same forwards and backwards)."
   ]
  },
  {
   "cell_type": "code",
   "execution_count": 31,
   "id": "845fafb6-50f5-4602-9063-ce52021d4146",
   "metadata": {},
   "outputs": [
    {
     "name": "stdin",
     "output_type": "stream",
     "text": [
      "enter a sentance of your choice Data science\n"
     ]
    }
   ],
   "source": [
    "H = str(input(\"enter a sentance of your choice\"))"
   ]
  },
  {
   "cell_type": "code",
   "execution_count": 36,
   "id": "02c84162-6e1e-48cf-9a39-062b81704ee5",
   "metadata": {},
   "outputs": [],
   "source": [
    "H1=H[::-1]"
   ]
  },
  {
   "cell_type": "code",
   "execution_count": 37,
   "id": "21a1ffc0-90f3-49a5-92f8-fb138d96ea38",
   "metadata": {},
   "outputs": [
    {
     "data": {
      "text/plain": [
       "'ecneics ataD'"
      ]
     },
     "execution_count": 37,
     "metadata": {},
     "output_type": "execute_result"
    }
   ],
   "source": [
    "H1"
   ]
  },
  {
   "cell_type": "code",
   "execution_count": 42,
   "id": "c5f72e60-f454-40fa-90e4-d893f631ed94",
   "metadata": {},
   "outputs": [
    {
     "name": "stdout",
     "output_type": "stream",
     "text": [
      "not palindrome\n"
     ]
    }
   ],
   "source": [
    "if H1==H:\n",
    "    print(\"palindrome\")\n",
    "else:\n",
    "    print(\"not palindrome\")"
   ]
  },
  {
   "cell_type": "code",
   "execution_count": 47,
   "id": "2940d685-1eb5-4a3a-a5e9-628f65f17d12",
   "metadata": {},
   "outputs": [
    {
     "name": "stdin",
     "output_type": "stream",
     "text": [
      "enter a sentance of your choice MOM\n"
     ]
    }
   ],
   "source": [
    "K = str(input(\"enter a sentance of your choice\"))"
   ]
  },
  {
   "cell_type": "code",
   "execution_count": 48,
   "id": "7b44ba78-77fa-4db7-b91d-152b6456068d",
   "metadata": {},
   "outputs": [],
   "source": [
    "K1=K[::-1]"
   ]
  },
  {
   "cell_type": "code",
   "execution_count": 49,
   "id": "cdc6da55-e9e0-4ce4-bcd3-babd357e1bcf",
   "metadata": {},
   "outputs": [
    {
     "data": {
      "text/plain": [
       "'MOM'"
      ]
     },
     "execution_count": 49,
     "metadata": {},
     "output_type": "execute_result"
    }
   ],
   "source": [
    "K1"
   ]
  },
  {
   "cell_type": "code",
   "execution_count": 51,
   "id": "9bc41a46-43f5-425a-9a32-3bf5d15926c3",
   "metadata": {},
   "outputs": [
    {
     "name": "stdout",
     "output_type": "stream",
     "text": [
      "palindrome\n"
     ]
    }
   ],
   "source": [
    "if K1==K:\n",
    "    print(\"palindrome\")\n",
    "else:\n",
    "    print(\"not palindrome\")"
   ]
  },
  {
   "cell_type": "code",
   "execution_count": 52,
   "id": "b07f683d-5afb-464e-a16c-106254e3f3db",
   "metadata": {},
   "outputs": [],
   "source": [
    "#5. Create a program that takes a string as input and removes all the spaces from it.\n",
    "#Print the modified string without spaces."
   ]
  },
  {
   "cell_type": "code",
   "execution_count": 53,
   "id": "1d61c30f-3b5c-4780-a6cd-eb7c2b07020c",
   "metadata": {},
   "outputs": [
    {
     "name": "stdin",
     "output_type": "stream",
     "text": [
      "enter a sentance of your choice This is a python \n"
     ]
    }
   ],
   "source": [
    "P = str(input(\"enter a sentance of your choice\"))"
   ]
  },
  {
   "cell_type": "code",
   "execution_count": 71,
   "id": "05bb844f-7b58-4210-85c8-d9da50fbb8ec",
   "metadata": {},
   "outputs": [
    {
     "name": "stdout",
     "output_type": "stream",
     "text": [
      "geek\n"
     ]
    }
   ],
   "source": [
    "def remove(string):\n",
    "    return \"\".join(string.split())\n",
    " \n",
    " \n",
    "# Driver Program\n",
    "string = ' g e e k '\n",
    "print(remove(string))\n",
    "\n",
    "\n",
    "#copied could'nt understand how to do it"
   ]
  },
  {
   "cell_type": "code",
   "execution_count": null,
   "id": "68a511cf-3d60-4722-be30-89cc0d657601",
   "metadata": {},
   "outputs": [],
   "source": []
  }
 ],
 "metadata": {
  "kernelspec": {
   "display_name": "Python 3 (ipykernel)",
   "language": "python",
   "name": "python3"
  },
  "language_info": {
   "codemirror_mode": {
    "name": "ipython",
    "version": 3
   },
   "file_extension": ".py",
   "mimetype": "text/x-python",
   "name": "python",
   "nbconvert_exporter": "python",
   "pygments_lexer": "ipython3",
   "version": "3.10.8"
  }
 },
 "nbformat": 4,
 "nbformat_minor": 5
}
